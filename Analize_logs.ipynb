{
  "nbformat": 4,
  "nbformat_minor": 0,
  "metadata": {
    "colab": {
      "provenance": [],
      "authorship_tag": "ABX9TyN0MwazVyvxWGnhp4MMLqGd",
      "include_colab_link": true
    },
    "kernelspec": {
      "name": "python3",
      "display_name": "Python 3"
    },
    "language_info": {
      "name": "python"
    }
  },
  "cells": [
    {
      "cell_type": "markdown",
      "metadata": {
        "id": "view-in-github",
        "colab_type": "text"
      },
      "source": [
        "<a href=\"https://colab.research.google.com/github/MitulovValentin/Colab/blob/main/Analize_logs.ipynb\" target=\"_parent\"><img src=\"https://colab.research.google.com/assets/colab-badge.svg\" alt=\"Open In Colab\"/></a>"
      ]
    },
    {
      "cell_type": "code",
      "execution_count": 1,
      "metadata": {
        "colab": {
          "base_uri": "https://localhost:8080/"
        },
        "id": "QWTJQ-NPgroK",
        "outputId": "622f03a0-03e4-48b6-d5a9-2ec654ef3c44"
      },
      "outputs": [
        {
          "output_type": "stream",
          "name": "stdout",
          "text": [
            "Collecting pyspark\n",
            "  Downloading pyspark-3.5.2.tar.gz (317.3 MB)\n",
            "\u001b[2K     \u001b[90m━━━━━━━━━━━━━━━━━━━━━━━━━━━━━━━━━━━━━━━━\u001b[0m \u001b[32m317.3/317.3 MB\u001b[0m \u001b[31m5.4 MB/s\u001b[0m eta \u001b[36m0:00:00\u001b[0m\n",
            "\u001b[?25h  Preparing metadata (setup.py) ... \u001b[?25l\u001b[?25hdone\n",
            "Requirement already satisfied: py4j==0.10.9.7 in /usr/local/lib/python3.10/dist-packages (from pyspark) (0.10.9.7)\n",
            "Building wheels for collected packages: pyspark\n",
            "  Building wheel for pyspark (setup.py) ... \u001b[?25l\u001b[?25hdone\n",
            "  Created wheel for pyspark: filename=pyspark-3.5.2-py2.py3-none-any.whl size=317812365 sha256=f7a1eb3d5e71c6e07c5917298ca6a3083e1e81926704599792d2ac005699dc59\n",
            "  Stored in directory: /root/.cache/pip/wheels/34/34/bd/03944534c44b677cd5859f248090daa9fb27b3c8f8e5f49574\n",
            "Successfully built pyspark\n",
            "Installing collected packages: pyspark\n",
            "Successfully installed pyspark-3.5.2\n"
          ]
        }
      ],
      "source": [
        "!pip install pyspark"
      ]
    },
    {
      "cell_type": "code",
      "source": [
        "!pip install faker"
      ],
      "metadata": {
        "colab": {
          "base_uri": "https://localhost:8080/"
        },
        "id": "S3V_bh6VgypN",
        "outputId": "30e523f8-2d18-46f1-e9a9-134b12e85048"
      },
      "execution_count": 4,
      "outputs": [
        {
          "output_type": "stream",
          "name": "stdout",
          "text": [
            "Collecting faker\n",
            "  Downloading Faker-28.0.0-py3-none-any.whl.metadata (15 kB)\n",
            "Requirement already satisfied: python-dateutil>=2.4 in /usr/local/lib/python3.10/dist-packages (from faker) (2.8.2)\n",
            "Requirement already satisfied: six>=1.5 in /usr/local/lib/python3.10/dist-packages (from python-dateutil>=2.4->faker) (1.16.0)\n",
            "Downloading Faker-28.0.0-py3-none-any.whl (1.8 MB)\n",
            "\u001b[?25l   \u001b[90m━━━━━━━━━━━━━━━━━━━━━━━━━━━━━━━━━━━━━━━━\u001b[0m \u001b[32m0.0/1.8 MB\u001b[0m \u001b[31m?\u001b[0m eta \u001b[36m-:--:--\u001b[0m\r\u001b[2K   \u001b[90m━━━━━━━━━━━━━━━━━━━━━━━━━━━━━━━━━━━━━━━━\u001b[0m \u001b[32m1.8/1.8 MB\u001b[0m \u001b[31m57.8 MB/s\u001b[0m eta \u001b[36m0:00:00\u001b[0m\n",
            "\u001b[?25hInstalling collected packages: faker\n",
            "Successfully installed faker-28.0.0\n"
          ]
        }
      ]
    },
    {
      "cell_type": "code",
      "source": [
        "import csv\n",
        "from faker import Faker\n",
        "import random\n",
        "\n",
        "fake = Faker()\n",
        "\n",
        "num_records = 100000\n",
        "\n",
        "http_methods = ['GET', 'POST', 'PUT', 'DELETE']\n",
        "response_codes = [200, 301, 404, 500]\n",
        "\n",
        "file_path = \"web_server_logs.csv\"\n",
        "\n",
        "with open(file_path, mode='w', newline='') as file:\n",
        "    writer = csv.writer(file)\n",
        "    writer.writerow(['ip', 'timestamp', 'method', 'url', 'response_code', 'response_size'])\n",
        "\n",
        "    for _ in range(num_records):\n",
        "        ip = fake.ipv4()\n",
        "        timestamp = fake.date_time_this_year().isoformat()\n",
        "        method = random.choice(http_methods)\n",
        "        url = fake.uri_path()\n",
        "        response_code = random.choice(response_codes)\n",
        "        response_size = random.randint(100, 10000)\n",
        "\n",
        "        writer.writerow([ip, timestamp, method, url, response_code, response_size])\n",
        "\n",
        "print(f\"Сгенерировано {num_records} записей и сохранено в {file_path}\")\n"
      ],
      "metadata": {
        "colab": {
          "base_uri": "https://localhost:8080/"
        },
        "id": "K5xVfUA6g2-x",
        "outputId": "df190ce6-5a1f-4735-ed2d-79d226a1046c"
      },
      "execution_count": 5,
      "outputs": [
        {
          "output_type": "stream",
          "name": "stdout",
          "text": [
            "Сгенерировано 100000 записей и сохранено в web_server_logs.csv\n"
          ]
        }
      ]
    },
    {
      "cell_type": "code",
      "source": [
        "from pyspark.sql import SparkSession\n",
        "from pyspark.sql.functions import col, count, date_format\n",
        "\n",
        "\n",
        "spark = SparkSession.builder.appName(\"Web server logs\").getOrCreate()\n",
        "\n",
        "df = spark.read.csv(\"web_server_logs.csv\", header=True, inferSchema=True)\n",
        "\n"
      ],
      "metadata": {
        "colab": {
          "base_uri": "https://localhost:8080/"
        },
        "id": "qe3rOUrSht4G",
        "outputId": "7157d6ec-bd2e-42f2-c12f-e1c783930c48"
      },
      "execution_count": 51,
      "outputs": [
        {
          "output_type": "stream",
          "name": "stdout",
          "text": [
            "+---------------+--------------------+------+--------------------+-------------+-------------+\n",
            "|             ip|           timestamp|method|                 url|response_code|response_size|\n",
            "+---------------+--------------------+------+--------------------+-------------+-------------+\n",
            "|     204.7.23.6|2024-04-21 07:01:...|   PUT|                 app|          404|         7984|\n",
            "| 25.127.151.238|2024-02-19 12:29:...|  POST|     search/blog/tag|          200|         8630|\n",
            "|  37.176.13.192|2024-06-10 05:09:...|DELETE|                 app|          200|          886|\n",
            "|  136.215.14.26|2024-03-29 08:25:...|   PUT|             explore|          500|         9747|\n",
            "| 105.220.185.22|2024-04-21 14:42:...|   GET|   list/app/category|          301|         6666|\n",
            "| 212.196.55.179|2024-04-10 13:20:...|   PUT|           tags/main|          500|         7344|\n",
            "|   88.201.38.30|2024-04-08 09:07:...|  POST|main/category/search|          500|         5124|\n",
            "|   12.224.108.8|2024-04-03 15:30:...|  POST|                blog|          200|         9070|\n",
            "| 103.132.45.222|2024-03-21 06:47:...|DELETE|tags/categories/main|          301|         2326|\n",
            "|  180.89.170.55|2024-04-13 05:17:...|   GET| wp-content/blog/app|          301|         3446|\n",
            "|   40.77.26.232|2024-06-10 19:48:...|DELETE|                main|          200|         3836|\n",
            "| 18.181.189.184|2024-08-19 03:25:...|  POST|        explore/list|          200|         7286|\n",
            "|  100.56.109.95|2024-01-17 21:14:...|  POST|blog/explore/explore|          301|         1384|\n",
            "|  19.152.78.206|2024-03-21 05:40:...|   PUT|            category|          500|         8412|\n",
            "|185.102.130.105|2024-06-12 03:56:...|DELETE|             explore|          200|         8450|\n",
            "|190.122.119.250|2024-03-18 13:17:...|   GET|      wp-content/app|          200|         7254|\n",
            "|  27.203.193.46|2024-07-15 05:04:...|DELETE|tags/wp-content/tags|          404|          177|\n",
            "| 180.108.47.104|2024-03-18 15:17:...|DELETE|main/wp-content/p...|          301|         5564|\n",
            "| 16.204.215.129|2024-07-28 18:52:...|  POST|           main/tags|          200|         7963|\n",
            "| 175.93.240.147|2024-01-17 15:28:...|   GET|posts/wp-content/...|          404|          534|\n",
            "+---------------+--------------------+------+--------------------+-------------+-------------+\n",
            "only showing top 20 rows\n",
            "\n"
          ]
        }
      ]
    },
    {
      "cell_type": "code",
      "source": [
        "from pyspark.sql import SparkSession\n",
        "from pyspark.sql.functions import col, count, date_format\n",
        "\n",
        "\n",
        "spark = SparkSession.builder.appName(\"Web server logs\").getOrCreate()\n",
        "\n",
        "df = spark.read.csv(\"web_server_logs.csv\", header=True, inferSchema=True)\n",
        "\n",
        "#1: Top 10 active IP adresses:\n",
        "df_group_ip = df.groupBy(\"ip\").agg({\"response_code\":\"count\"})\n",
        "select_ip = df_group_ip.select(\"ip\", col(\"count(response_code)\").alias(\"request_count\")) \\\n",
        "    .orderBy(col(\"count(response_code)\").desc()) \\\n",
        "    .limit(10)\n",
        "\n",
        "#2 Request count by HTTP method:\n",
        "df_group_methods = df.groupBy(\"method\").agg({\"method\":\"count\"})\n",
        "select_methods = df_group_methods.select(\"method\", col(\"count(method)\").alias(\"method_count\"))\n",
        "\n",
        "\n",
        "#3 Count request with response code 404:\n",
        "count_request_404 = df.filter(df.response_code == 404).count()\n",
        "\n",
        "#4 Total response size by day:\n",
        "df_group_day = df.groupBy(date_format(\"timestamp\", \"yyy-MM-dd\").alias(\"date\")).agg({\"response_size\":\"sum\"})\n",
        "\n",
        "\n",
        "select_day = df_group_day.select(\n",
        "      \"date\",\n",
        "      col(\"sum(response_size)\").alias(\"total_response_size\")\n",
        "      ) \\\n",
        "    .orderBy(\"date\")\n",
        "\n",
        "print(\"Top 10 active IP adresses:\")\n",
        "select_ip.show()\n",
        "print(\"Request count by HTTP method:\")\n",
        "select_methods.show()\n",
        "print(f\"Number of 404 response code: {count_request_404}\")\n",
        "print(\"Total response size by day:\")\n",
        "select_day.show()"
      ],
      "metadata": {
        "colab": {
          "base_uri": "https://localhost:8080/"
        },
        "id": "izGFJC3fkARJ",
        "outputId": "6e3e2648-965e-413b-aeb9-55fd876ce6ed"
      },
      "execution_count": 64,
      "outputs": [
        {
          "output_type": "stream",
          "name": "stdout",
          "text": [
            "Top 10 active IP adresses:\n",
            "+---------------+-------------+\n",
            "|             ip|request_count|\n",
            "+---------------+-------------+\n",
            "| 161.158.116.15|            2|\n",
            "|  2.145.118.227|            1|\n",
            "|215.204.119.143|            1|\n",
            "|    2.178.5.247|            1|\n",
            "|  52.231.202.42|            1|\n",
            "| 96.105.246.194|            1|\n",
            "|  90.144.251.28|            1|\n",
            "|  19.83.177.190|            1|\n",
            "|   49.11.124.91|            1|\n",
            "|  70.211.174.64|            1|\n",
            "+---------------+-------------+\n",
            "\n",
            "Request count by HTTP method:\n",
            "+------+------------+\n",
            "|method|method_count|\n",
            "+------+------------+\n",
            "|  POST|       24917|\n",
            "|DELETE|       25143|\n",
            "|   PUT|       25048|\n",
            "|   GET|       24892|\n",
            "+------+------------+\n",
            "\n",
            "Number of 404 response code: 24864\n",
            "Total response size by day:\n",
            "+----------+-------------------+\n",
            "|      date|total_response_size|\n",
            "+----------+-------------------+\n",
            "|2024-01-01|            2065757|\n",
            "|2024-01-02|            1906854|\n",
            "|2024-01-03|            2154029|\n",
            "|2024-01-04|            2254936|\n",
            "|2024-01-05|            1923430|\n",
            "|2024-01-06|            2192572|\n",
            "|2024-01-07|            1825341|\n",
            "|2024-01-08|            2081641|\n",
            "|2024-01-09|            2079014|\n",
            "|2024-01-10|            2103383|\n",
            "|2024-01-11|            2114728|\n",
            "|2024-01-12|            2089929|\n",
            "|2024-01-13|            2097021|\n",
            "|2024-01-14|            1973838|\n",
            "|2024-01-15|            2059677|\n",
            "|2024-01-16|            2029054|\n",
            "|2024-01-17|            2028156|\n",
            "|2024-01-18|            1959451|\n",
            "|2024-01-19|            2132735|\n",
            "|2024-01-20|            2158677|\n",
            "+----------+-------------------+\n",
            "only showing top 20 rows\n",
            "\n"
          ]
        }
      ]
    }
  ]
}